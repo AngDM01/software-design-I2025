{
  "nbformat": 4,
  "nbformat_minor": 0,
  "metadata": {
    "colab": {
      "provenance": []
    },
    "kernelspec": {
      "name": "python3",
      "display_name": "Python 3"
    },
    "language_info": {
      "name": "python"
    }
  },
  "cells": [
    {
      "cell_type": "markdown",
      "source": [
        "# En búsqueda de Alta Cohesión y Bajo Acoplamiento"
      ],
      "metadata": {
        "id": "sV6QqGI2dmz3"
      }
    },
    {
      "cell_type": "markdown",
      "source": [
        "Material proporcionado por el Prof. Daniel Salazar Mora."
      ],
      "metadata": {
        "id": "FbdHSWh7dti0"
      }
    },
    {
      "cell_type": "markdown",
      "source": [
        "## Alta vs Baja Cohesión"
      ],
      "metadata": {
        "id": "yp9gleKCbZM5"
      }
    },
    {
      "cell_type": "markdown",
      "source": [
        "**Alta cohesión:** Los elementos de un módulo están alineados y tienen un propósito claro.\n",
        "\n",
        "**Baja cohesión:** Los elementos de un módulo realizan tareas variadas y no relacionadas."
      ],
      "metadata": {
        "id": "BAfa-R7Ycei0"
      }
    },
    {
      "cell_type": "markdown",
      "source": [
        "### Ejemplo de Baja Cohesión (mala)"
      ],
      "metadata": {
        "id": "u9zSNxSEbfq9"
      }
    },
    {
      "cell_type": "code",
      "source": [
        "class OrderSystem:\n",
        "    def __init__(self):\n",
        "        self.orders = []\n",
        "\n",
        "    def add_order(self, order):\n",
        "        self.orders.append(order)\n",
        "\n",
        "    def process_orders(self):\n",
        "        for order in self.orders:\n",
        "            print(f\"Procesando orden: {order}\")\n",
        "\n",
        "    def calculate_total(self):\n",
        "        total = sum(order['amount'] for order in self.orders)\n",
        "        print(f\"Total de órdenes: {total}\")\n",
        "\n",
        "    def send_email_confirmation(self):\n",
        "        print(\"Enviando confirmación por correo...\")"
      ],
      "metadata": {
        "id": "gzKPaYw-bl8r"
      },
      "execution_count": 1,
      "outputs": []
    },
    {
      "cell_type": "markdown",
      "source": [
        "### Ejemplo de Alta Cohesión (deseada)"
      ],
      "metadata": {
        "id": "Uwg2I3Tybnmh"
      }
    },
    {
      "cell_type": "code",
      "execution_count": 2,
      "metadata": {
        "id": "zTrIKe97a2dC"
      },
      "outputs": [],
      "source": [
        "class Order:\n",
        "    def __init__(self, order_id, amount):\n",
        "        self.order_id = order_id\n",
        "        self.amount = amount\n",
        "\n",
        "class OrderManager:\n",
        "    def __init__(self):\n",
        "        self.orders = []\n",
        "\n",
        "    def add_order(self, order):\n",
        "        self.orders.append(order)\n",
        "\n",
        "    def process_orders(self):\n",
        "        for order in self.orders:\n",
        "            print(f\"Procesando orden: {order.order_id}\")\n",
        "\n",
        "class PaymentProcessor:\n",
        "    @staticmethod\n",
        "    def calculate_total(orders):\n",
        "        total = sum(order.amount for order in orders)\n",
        "        print(f\"Total de órdenes: {total}\")\n",
        "\n",
        "class NotificationService:\n",
        "    @staticmethod\n",
        "    def send_email():\n",
        "        print(\"Enviando confirmación por correo...\")"
      ]
    },
    {
      "cell_type": "markdown",
      "source": [
        "### ¿Diferencias?"
      ],
      "metadata": {
        "id": "uXp_dplebtN2"
      }
    },
    {
      "cell_type": "markdown",
      "source": [
        "Al utilizar alta cohesion, es más fácil de mantener y extender el código. Por ejemplo, podemos realizar cambios en el NotificationService y tenemos mucha confianza en que no habrán cambios en las otras funcionalidades por consecuencia a esta.\n",
        "\n",
        "Ademas de que es mas natural de invocar y utilizar el código de esta forma."
      ],
      "metadata": {
        "id": "YzogX3sYbxLP"
      }
    },
    {
      "cell_type": "code",
      "source": [
        "order_manager = OrderManager()\n",
        "\n",
        "order1 = Order(1, 100)\n",
        "order2 = Order(2, 200)\n",
        "\n",
        "order_manager.add_order(order1)\n",
        "order_manager.add_order(order2)\n",
        "\n",
        "order_manager.process_orders()\n",
        "PaymentProcessor.calculate_total(order_manager.orders)\n",
        "NotificationService.send_email()"
      ],
      "metadata": {
        "colab": {
          "base_uri": "https://localhost:8080/"
        },
        "id": "jNgKn1y_bZB9",
        "outputId": "f0fd92ae-aa1d-4c3c-e6ea-cb66fcb3efbe"
      },
      "execution_count": 3,
      "outputs": [
        {
          "output_type": "stream",
          "name": "stdout",
          "text": [
            "Procesando orden: 1\n",
            "Procesando orden: 2\n",
            "Total de órdenes: 300\n",
            "Enviando confirmación por correo...\n"
          ]
        }
      ]
    },
    {
      "cell_type": "markdown",
      "source": [
        "## Alto vs Bajo Acoplamiento"
      ],
      "metadata": {
        "id": "FyC5dVx9cyvD"
      }
    },
    {
      "cell_type": "markdown",
      "source": [
        "**Bajo acoplamiento:** Los módulos dependen poco entre sí y se comunican a través de interfaces bien definidas.\n",
        "\n",
        "**Alto acoplamiento:** Los módulos están muy interconectados, lo que hace difícil modificar uno sin afectar a los demás."
      ],
      "metadata": {
        "id": "7UGFHQQ0c2Jz"
      }
    },
    {
      "cell_type": "markdown",
      "source": [
        "### Alto acoplamiento (malo)"
      ],
      "metadata": {
        "id": "JOJtPgNLdTOt"
      }
    },
    {
      "cell_type": "code",
      "source": [
        "class Database:\n",
        "    def save_data(self, data):\n",
        "        print(f\"Guardando en base de datos: {data}\")\n",
        "\n",
        "class Report:\n",
        "    def __init__(self):\n",
        "        self.database = Database()  # Dependencia directa\n",
        "\n",
        "    def generate_report(self):\n",
        "        print(\"Generando reporte...\")\n",
        "        self.database.save_data(\"Reporte generado\")  # Llamada directa\n",
        "\n",
        "# Uso en el programa\n",
        "report = Report()\n",
        "report.generate_report()"
      ],
      "metadata": {
        "colab": {
          "base_uri": "https://localhost:8080/"
        },
        "id": "dL2FaB-ndVXQ",
        "outputId": "15dd75b9-9e27-44f6-bc44-8f45b6cd209d"
      },
      "execution_count": 5,
      "outputs": [
        {
          "output_type": "stream",
          "name": "stdout",
          "text": [
            "Generando reporte...\n",
            "Guardando en base de datos: Reporte generado\n"
          ]
        }
      ]
    },
    {
      "cell_type": "markdown",
      "source": [
        "### Bajo acoplamiento (deseado)"
      ],
      "metadata": {
        "id": "PI8cr9fmdVc_"
      }
    },
    {
      "cell_type": "code",
      "source": [
        "from abc import ABC, abstractmethod\n",
        "\n",
        "# Definir una interfaz de almacenamiento\n",
        "class Storage(ABC):\n",
        "    @abstractmethod\n",
        "    def save_data(self, data):\n",
        "        pass\n",
        "\n",
        "# Implementación de almacenamiento en base de datos\n",
        "class DatabaseStorage(Storage):\n",
        "    def save_data(self, data):\n",
        "        print(f\"Guardando en base de datos: {data}\")\n",
        "\n",
        "# Implementación de almacenamiento en archivo\n",
        "class FileStorage(Storage):\n",
        "    def save_data(self, data):\n",
        "        print(f\"Guardando en un archivo: {data}\")\n",
        "\n",
        "# Report ya no depende de una implementación específica\n",
        "class Report:\n",
        "    def __init__(self, storage: Storage):\n",
        "        self.storage = storage  # Inyección de dependencia\n",
        "\n",
        "    def generate_report(self):\n",
        "        print(\"Generando reporte...\")\n",
        "        self.storage.save_data(\"Reporte generado\")  # Uso de la interfaz\n",
        "\n",
        "# Uso en el programa\n",
        "database_storage = DatabaseStorage()\n",
        "file_storage = FileStorage()\n",
        "\n",
        "report1 = Report(database_storage)  # Usando base de datos\n",
        "report1.generate_report()\n",
        "\n",
        "report2 = Report(file_storage)  # Usando archivos\n",
        "report2.generate_report()"
      ],
      "metadata": {
        "colab": {
          "base_uri": "https://localhost:8080/"
        },
        "id": "ipA_f4q0darX",
        "outputId": "c4f10178-e3bf-479f-b720-b5f8620986a3"
      },
      "execution_count": 6,
      "outputs": [
        {
          "output_type": "stream",
          "name": "stdout",
          "text": [
            "Generando reporte...\n",
            "Guardando en base de datos: Reporte generado\n",
            "Generando reporte...\n",
            "Guardando en un archivo: Reporte generado\n"
          ]
        }
      ]
    },
    {
      "cell_type": "markdown",
      "source": [
        "### ¿Diferencias?"
      ],
      "metadata": {
        "id": "J1NhbeQCdaw-"
      }
    },
    {
      "cell_type": "markdown",
      "source": [
        "Al manejar bajo acoplamiento, evitamos dependencias directas que pueden requerir muchos cambios en un futuro. En este caso, si en un futuro quisieramos agregar almacenamiento en la nube, entonces lo unico que tendriamos que hacer es crear una nueva implementación de Storage e invocarla en Report. Ni siquiera tendríamos que cambiar el código ya escrito!"
      ],
      "metadata": {
        "id": "X6rFD6y_eJWK"
      }
    }
  ]
}